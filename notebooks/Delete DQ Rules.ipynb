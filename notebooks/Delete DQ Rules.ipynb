{
 "cells": [
  {
   "cell_type": "markdown",
   "metadata": {
    "id": "b8a12456-2d55-44ab-8b29-e7fc7022d4fb"
   },
   "source": [
    "### Imports"
   ]
  },
  {
   "cell_type": "code",
   "execution_count": null,
   "metadata": {
    "id": "03441afd-b1ba-436b-9307-9633dd570b21"
   },
   "outputs": [],
   "source": [
    "from ibm_watson_studio_lib import access_project_or_space\n",
    "from urllib.parse import urlencode\n",
    "import time\n",
    "import requests\n",
    "import urllib3"
   ]
  },
  {
   "cell_type": "markdown",
   "metadata": {
    "id": "9dbb3467-3a6f-493e-8e6b-ef87225bb65a"
   },
   "source": [
    "### Setup"
   ]
  },
  {
   "cell_type": "code",
   "execution_count": null,
   "metadata": {
    "id": "79436a59-fce8-46f6-9681-ca24865cc6af"
   },
   "outputs": [],
   "source": [
    "urllib3.disable_warnings()\n",
    "wslib = access_project_or_space()\n",
    "\n",
    "CPD_HOST = \"cpd-cpd.company.com\"\n",
    "PROJECT_ID = wslib.here.get_ID()\n",
    "TOKEN = wslib.auth.get_current_token()"
   ]
  },
  {
   "cell_type": "markdown",
   "metadata": {
    "id": "e28f52f1-f046-4920-8544-7b6b9f2fcc5e"
   },
   "source": [
    "### Main API Call"
   ]
  },
  {
   "cell_type": "code",
   "execution_count": 3,
   "metadata": {
    "id": "88512efe-a6c5-4ad9-b813-05f6a2a4c33b"
   },
   "outputs": [],
   "source": [
    "def delete_dq_rule(token, project_id, rule_id):\n",
    "    \"\"\"\n",
    "    Delete a single data quality rule using the Data Quality API\n",
    "    \n",
    "    Args:\n",
    "        token (str): Authorization token\n",
    "        project_id (str): The identifier of the project\n",
    "        rule_id (str): The data quality rule identifier\n",
    "    \n",
    "    Returns:\n",
    "        dict: Response with success status and details\n",
    "    \"\"\"\n",
    "    try:\n",
    "        \n",
    "        # Build query parameters\n",
    "        query_params = {}\n",
    "        query_params['delete_output'] = 'false'\n",
    "        query_params['cancel_unfinished_jobs'] = 'true'\n",
    "        \n",
    "        # Build URL\n",
    "        url = f\"https://{CPD_HOST}/data_quality/v3/projects/{project_id}/rules/{rule_id}\"\n",
    "        if query_params:\n",
    "            url += f\"?{urlencode(query_params)}\"\n",
    "        \n",
    "        # Set headers\n",
    "        headers = {\n",
    "            'Authorization': f'Bearer {token}'\n",
    "        }\n",
    "        \n",
    "        # Make the DELETE request\n",
    "        response = requests.delete(url, headers=headers, verify=False)\n",
    "        \n",
    "        if response.status_code == 204:\n",
    "            # Success - No Content\n",
    "            return {\n",
    "                'success': True,\n",
    "                'message': f'Data quality rule {rule_id} deleted successfully',\n",
    "                'rule_id': rule_id\n",
    "            }\n",
    "            \n",
    "        elif response.status_code == 401:\n",
    "            return {\n",
    "                'success': False,\n",
    "                'error': 'Unauthorized - Authorization missing, invalid, or expired',\n",
    "                'status_code': response.status_code,\n",
    "                'rule_id': rule_id\n",
    "            }\n",
    "            \n",
    "        elif response.status_code == 403:\n",
    "            return {\n",
    "                'success': False,\n",
    "                'error': 'Forbidden - No permission to delete the data quality rule',\n",
    "                'status_code': response.status_code,\n",
    "                'rule_id': rule_id\n",
    "            }\n",
    "            \n",
    "        elif response.status_code == 404:\n",
    "            return {\n",
    "                'success': False,\n",
    "                'error': 'Not Found - Data quality rule cannot be found',\n",
    "                'status_code': response.status_code,\n",
    "                'rule_id': rule_id\n",
    "            }\n",
    "            \n",
    "        elif response.status_code == 500:\n",
    "            return {\n",
    "                'success': False,\n",
    "                'error': 'Internal Server Error - Data quality rule cannot be deleted',\n",
    "                'status_code': response.status_code,\n",
    "                'rule_id': rule_id,\n",
    "                'response': response.text\n",
    "            }\n",
    "            \n",
    "        else:\n",
    "            return {\n",
    "                'success': False,\n",
    "                'error': f\"Unexpected HTTP {response.status_code}\",\n",
    "                'status_code': response.status_code,\n",
    "                'rule_id': rule_id,\n",
    "                'response': response.text\n",
    "            }\n",
    "            \n",
    "    except ValueError as ve:\n",
    "        return {\n",
    "            'success': False,\n",
    "            'error': f\"Validation error: {str(ve)}\",\n",
    "            'rule_id': rule_id\n",
    "        }\n",
    "    except requests.exceptions.RequestException as re:\n",
    "        return {\n",
    "            'success': False,\n",
    "            'error': f\"Request error: {str(re)}\",\n",
    "            'rule_id': rule_id\n",
    "        }\n",
    "    except Exception as e:\n",
    "        return {\n",
    "            'success': False,\n",
    "            'error': f\"Unexpected error: {str(e)}\",\n",
    "            'rule_id': rule_id\n",
    "        }"
   ]
  },
  {
   "cell_type": "markdown",
   "metadata": {
    "id": "74c27dfe-d7d5-44a7-b6cc-e2156ca2e696"
   },
   "source": [
    "### Main Logic"
   ]
  },
  {
   "cell_type": "code",
   "execution_count": null,
   "metadata": {
    "id": "59b9e32f-7eee-4417-ab7e-70bdf972b78c"
   },
   "outputs": [],
   "source": [
    "# List all assets of type Data Quality Rule\n",
    "dq_rules = wslib.assets.list_assets(\"data_rule\")\n",
    "\n",
    "if len(dq_rules) == 0:\n",
    "    print(\"No rules to delete\")\n",
    "else:\n",
    "    print(f\"\\nDeleting {len(dq_rules)} data quality rules...\")\n",
    "    \n",
    "    success_count = 0\n",
    "    error_count = 0\n",
    "    \n",
    "    # Iterate through the rules\n",
    "    for i, rule in enumerate(dq_rules, 1):\n",
    "        rule_id = rule['asset_id']\n",
    "        rule_name = rule['name']\n",
    "        \n",
    "        print(f\"Deleting rule {i}/{len(dq_rules)}: {rule_id} - {rule_name}\")\n",
    "        \n",
    "        # Call the delete_dq_rule function\n",
    "        result = delete_dq_rule(\n",
    "            token=TOKEN,\n",
    "            project_id=PROJECT_ID,\n",
    "            rule_id=rule_id\n",
    "        )\n",
    "        \n",
    "        # Print results\n",
    "        if result['success']:\n",
    "            success_count += 1\n",
    "            print(f\"  ✓ Deleted successfully\")\n",
    "        else:\n",
    "            error_count += 1\n",
    "            print(f\"  ✗ Failed: {result['error']}\")\n",
    "        \n",
    "        # Small delay between calls\n",
    "        if i < len(dq_rules):\n",
    "            time.sleep(0.2)\n",
    "    \n",
    "    print(f\"\\nDeletion completed!\")\n",
    "    print(f\"  Successfully deleted: {success_count}\")\n",
    "    print(f\"  Errors: {error_count}\")"
   ]
  }
 ],
 "metadata": {
  "kernelspec": {
   "display_name": "Python 3.11",
   "language": "python",
   "name": "python3"
  },
  "language_info": {
   "codemirror_mode": {
    "name": "ipython",
    "version": 3
   },
   "file_extension": ".py",
   "mimetype": "text/x-python",
   "name": "python",
   "nbconvert_exporter": "python",
   "pygments_lexer": "ipython3",
   "version": "3.11.9"
  }
 },
 "nbformat": 4,
 "nbformat_minor": 4
}
